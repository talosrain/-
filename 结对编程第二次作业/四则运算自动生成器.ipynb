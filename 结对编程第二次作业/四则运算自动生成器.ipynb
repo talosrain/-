{
 "cells": [
  {
   "cell_type": "markdown",
   "metadata": {},
   "source": [
    "# 四则运算自动生成程序\n",
    "\n",
    "#####                                                                                                                                                                                                            cteate by talosl &  风雨"
   ]
  },
  {
   "cell_type": "code",
   "execution_count": 1,
   "metadata": {},
   "outputs": [
    {
     "name": "stdout",
     "output_type": "stream",
     "text": [
      "请输入难度：0为普通运算，1为复合运算,2为随机运算（普通+复合）\n",
      "2\n",
      "是否生成小数，0为不生成，1为生成\n",
      "1\n",
      "10以内运算输入0，100以内运算输入1\n",
      "1\n",
      "请输入需要生成的题目数量\n",
      "50\n",
      "请输入题目长度\n",
      "21\n",
      "题目已保存为question.txt\n",
      "答案已保存为answer.txt\n"
     ]
    }
   ],
   "source": [
    "import random as rd\n",
    "import sys\n",
    "print(\"请输入难度：0为普通运算，1为复合运算,2为随机运算（普通+复合）\")\n",
    "df=int(input())\n",
    "print(\"是否生成小数，0为不生成，1为生成\")\n",
    "dec=int(input())\n",
    "print(\"10以内运算输入0，100以内运算输入1\")\n",
    "on=int(input())\n",
    "if (on == 0):\n",
    "    oo = 10\n",
    "else:\n",
    "    oo = 100\n",
    "print(\"请输入需要生成的题目数量\")\n",
    "num_file=int(input())\n",
    "print(\"请输入题目长度\")\n",
    "num_len=int(input())\n",
    "def df2(num_len,oo,df,dec):\n",
    "    k=True\n",
    "    s='+'\n",
    "    l=0\n",
    "    f = open('question.txt', 'a')\n",
    "    f1 = open('answer.txt', 'a')\n",
    "    if(num_len%2==0):\n",
    "        num_len-=1\n",
    "    for i in range(num_len):\n",
    "        a=rd.choice(\"+-*/(\")\n",
    "        b=rd.choice(\"+-*/\")\n",
    "        l+=1\n",
    "        if(dec==1):\n",
    "            if (df == 0):\n",
    "                s = s[:l] + str(round(rd.uniform(1, oo),2))\n",
    "                s = s[:l + 1] + b\n",
    "                s = s[:l+2] + str(round(rd.uniform(1, oo), 2))\n",
    "                l += 2\n",
    "            elif (k):\n",
    "                s = s[:l] + str(round(rd.uniform(1, oo),2))\n",
    "                k = False\n",
    "            else:\n",
    "                if (a == \"(\"):\n",
    "                    s = s[:l] + b\n",
    "                    s = s[:l + 1] + a\n",
    "                    s = s[:l + 2] + str(round(rd.uniform(1, oo),2))\n",
    "                    s = s[:l + 3] + b\n",
    "                    s = s[:l + 4] + str(round(rd.uniform(1, oo),2))\n",
    "                    s = s[:l + 5] + \")\"\n",
    "                    s = s[:l + 6] + b\n",
    "                    l += 6\n",
    "                    k = True\n",
    "                else:\n",
    "                    s = s[:l] + a\n",
    "                    k = True\n",
    "        elif(df==0):\n",
    "            s = s[:l] + str(rd.randint(1, oo))\n",
    "            s = s[:l+1] + b\n",
    "            s = s[:l+2] + str(rd.randint(1, oo))\n",
    "            l+=2\n",
    "        elif(k):\n",
    "            s=s[:l]+str(rd.randint(1,oo))\n",
    "            k=False\n",
    "        else:\n",
    "            if(a==\"(\"):\n",
    "                s = s[:l] + b\n",
    "                s = s[:l + 1] + a\n",
    "                s = s[:l + 2]+str(rd.randint(1,oo))\n",
    "                s = s[:l + 3] + b\n",
    "                s = s[:l + 4] + str(rd.randint(1,oo))\n",
    "                s = s[:l + 5] + \")\"\n",
    "                s = s[:l + 6] + b\n",
    "                l+=6\n",
    "                k=True\n",
    "            else:\n",
    "                s = s[:l] + a\n",
    "                k = True\n",
    "    f.write (s)\n",
    "    f.write (\"=\")\n",
    "    f.write('\\n')\n",
    "    f.write('\\n')\n",
    "    f1.write(str((round(eval(s),2)))) \n",
    "    f1.write('\\n')\n",
    "for i in range(num_file):\n",
    "    df2(num_len,oo,df,dec)\n",
    "print(\"题目已保存为question.txt\")\n",
    "print(\"答案已保存为answer.txt\")"
   ]
  },
  {
   "cell_type": "markdown",
   "metadata": {},
   "source": [
    " # 将试卷发送到指定的邮箱"
   ]
  },
  {
   "cell_type": "code",
   "execution_count": 9,
   "metadata": {},
   "outputs": [
    {
     "name": "stdout",
     "output_type": "stream",
     "text": [
      "邮件发送成功\n"
     ]
    }
   ],
   "source": [
    "import smtplib\n",
    "from email.mime.text import MIMEText\n",
    "from email.mime.multipart import MIMEMultipart\n",
    "from email.header import Header\n",
    "\n",
    "\n",
    "mail_host = \"smtp.mxhichina.com\"  # 设置服务器\n",
    "mail_user = \"talosl@dctwr.cn\"  # 用户名\n",
    "mail_pass = \"***************\"  # 口令\n",
    "\n",
    "sender = 'talosl@dctwr.cn'\n",
    "receivers = '592157602@qq.com' # 接收邮件\n",
    "\n",
    "\n",
    "message = MIMEMultipart()\n",
    "message['From'] = Header(\"四则运算器\", 'utf-8')\n",
    "message['To'] = Header(\"测试\", 'utf-8')\n",
    "subject = '运算测试'\n",
    "message['Subject'] = Header(subject, 'utf-8')\n",
    "\n",
    "# 邮件正文内容\n",
    "message.attach(MIMEText('算式已自动生成', 'plain', 'GBK'))\n",
    "\n",
    "\n",
    "att1 = MIMEText(open('question.txt', 'rb').read(), 'base64', 'GBK')\n",
    "att1[\"Content-Type\"] = 'application/octet-stream'\n",
    "att1[\"Content-Disposition\"] = 'attachment; filename=\"1.txt\"'\n",
    "message.attach(att1)\n",
    "\n",
    "att2 = MIMEText(open('answer.txt', 'rb').read(), 'base64', 'GBK')\n",
    "att2[\"Content-Type\"] = 'application/octet-stream'\n",
    "att2[\"Content-Disposition\"] = 'attachment; filename=\"2.txt\"'\n",
    "message.attach(att2)\n",
    "\n",
    "try:\n",
    "    smtpObj = smtplib.SMTP()\n",
    "    smtpObj.connect(mail_host, 25)\n",
    "    smtpObj.login(mail_user, mail_pass)\n",
    "    smtpObj.sendmail(sender, receivers, message.as_string())\n",
    "    print (\"邮件发送成功\")\n",
    "except smtplib.SMTPException:\n",
    "    print (\"Error: 无法发送邮件\")"
   ]
  },
  {
   "cell_type": "code",
   "execution_count": null,
   "metadata": {},
   "outputs": [],
   "source": []
  }
 ],
 "metadata": {
  "kernelspec": {
   "display_name": "Python 3",
   "language": "python",
   "name": "python3"
  },
  "language_info": {
   "codemirror_mode": {
    "name": "ipython",
    "version": 3
   },
   "file_extension": ".py",
   "mimetype": "text/x-python",
   "name": "python",
   "nbconvert_exporter": "python",
   "pygments_lexer": "ipython3",
   "version": "3.6.5"
  }
 },
 "nbformat": 4,
 "nbformat_minor": 2
}
